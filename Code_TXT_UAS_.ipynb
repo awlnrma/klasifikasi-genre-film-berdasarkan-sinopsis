{
  "cells": [
    {
      "cell_type": "markdown",
      "source": [
        "**SCRAPING DATA**\n"
      ],
      "metadata": {
        "id": "CWORZeosEKMp"
      }
    },
    {
      "cell_type": "code",
      "source": [
        "pip install BeautifulSoup4"
      ],
      "metadata": {
        "id": "HJB5G39vEGHT"
      },
      "execution_count": null,
      "outputs": []
    },
    {
      "cell_type": "code",
      "source": [
        "pip install selenium"
      ],
      "metadata": {
        "id": "zx0WwY-WER9X"
      },
      "execution_count": null,
      "outputs": []
    },
    {
      "cell_type": "code",
      "source": [
        "pip install pandas"
      ],
      "metadata": {
        "id": "vLflSq9vEU8Q"
      },
      "execution_count": null,
      "outputs": []
    },
    {
      "cell_type": "code",
      "source": [
        "from bs4 import BeautifulSoup\n",
        "import pandas as pd\n",
        "from selenium import webdriver\n",
        "from selenium.webdriver.common.by import By\n",
        "from selenium.webdriver.common.action_chains import ActionChains\n",
        "from selenium.webdriver.support.ui import WebDriverWait\n",
        "from selenium.webdriver.support import expected_conditions as EC\n",
        "from bs4 import BeautifulSoup\n",
        "import time\n",
        "from ipywidgets import IntProgress\n",
        "from IPython.display import display"
      ],
      "metadata": {
        "id": "sRbW2mxoEU4k"
      },
      "execution_count": null,
      "outputs": []
    },
    {
      "cell_type": "code",
      "source": [
        "movies_title = []\n",
        "movies_sinopsis = []\n",
        "movies_genre = []\n",
        "\n",
        "max_data = 2000"
      ],
      "metadata": {
        "id": "dTjznY60EU2V"
      },
      "execution_count": null,
      "outputs": []
    },
    {
      "cell_type": "code",
      "source": [
        "\n",
        "url = \"https://www.imdb.com/search/title/?title_type=feature,tv_series&count=100&sort=num_votes,desc\"\n",
        "\n",
        "driver = webdriver.Chrome()\n",
        "driver.get(url)\n",
        "\n",
        "wait = WebDriverWait(driver, 10)\n",
        "\n",
        "data_loaded = 0\n",
        "while True:\n",
        "    try:\n",
        "        load_more_button = wait.until(EC.element_to_be_clickable((By.CLASS_NAME, 'ipc-see-more__text')))\n",
        "\n",
        "        ActionChains(driver).move_to_element(load_more_button).click(load_more_button).perform()\n",
        "\n",
        "        time.sleep(2)\n",
        "        data_loaded += 100\n",
        "\n",
        "        print(\"data loaded: \", data_loaded)\n",
        "        if data_loaded >= max_data:\n",
        "            print(f\"Already loaded {data_loaded} items. Stopping.\")\n",
        "            break\n",
        "\n",
        "    except Exception as e:\n",
        "        print(\"No more data to load or error:\", e)\n",
        "        break"
      ],
      "metadata": {
        "id": "WevExMxVEUz5"
      },
      "execution_count": null,
      "outputs": []
    },
    {
      "cell_type": "code",
      "source": [
        "html_source = driver.page_source\n",
        "soup = BeautifulSoup(html_source, \"html.parser\")\n",
        "\n",
        "print(\"Begin to extract data\")\n",
        "\n",
        "f = IntProgress(min=0, max=max_data)\n",
        "display(f)\n",
        "\n",
        "titles = soup.find_all('h3', class_=\"ipc-title__text\")\n",
        "sinopsis = soup.find_all('div', class_ = \"ipc-html-content-inner-div\")\n",
        "\n",
        "info_buttons = driver.find_elements(By.CLASS_NAME, 'ipc-icon-button.dli-info-icon')\n",
        "\n",
        "for index, button in enumerate(info_buttons):\n",
        "    try:\n",
        "        wait.until(EC.element_to_be_clickable(button))\n",
        "        ActionChains(driver).move_to_element(button).click(button).perform()\n",
        "        modal = wait.until(EC.visibility_of_element_located((By.CLASS_NAME, \"ipc-promptable-base__panel\")))\n",
        "        time.sleep(1)\n",
        "\n",
        "        list_items = driver.find_elements(By.XPATH, \"//ul[@data-testid='btp_gl']//li[@class='ipc-inline-list__item']\")\n",
        "        categories = [item.text for item in list_items]\n",
        "        movies_genre.append(categories)\n",
        "\n",
        "        close_button = wait.until(EC.element_to_be_clickable((By.CLASS_NAME, 'ipc-promptable-base__close')))\n",
        "        close_button.click()\n",
        "\n",
        "        f.value +=1\n",
        "\n",
        "    except Exception as e:\n",
        "        print(f\"Error clicking button {index + 1}: {e}\")"
      ],
      "metadata": {
        "id": "vaMCwxY_EUxh"
      },
      "execution_count": null,
      "outputs": []
    },
    {
      "cell_type": "code",
      "source": [
        "driver.quit()"
      ],
      "metadata": {
        "id": "GCn1WsNzEUu-"
      },
      "execution_count": null,
      "outputs": []
    },
    {
      "cell_type": "code",
      "source": [
        "for i in titles:\n",
        "    text = i.text.strip()\n",
        "    if text[0].isdigit():\n",
        "        title = text.split(\".\")[1]\n",
        "        movies_title.append(title)\n",
        "len(movies_title)"
      ],
      "metadata": {
        "id": "X0H2QoL2EUgr"
      },
      "execution_count": null,
      "outputs": []
    },
    {
      "cell_type": "code",
      "source": [
        "for i in sinopsis:\n",
        "    text  = i.text.strip()\n",
        "    movies_sinopsis.append(text)\n",
        "len(movies_sinopsis)"
      ],
      "metadata": {
        "id": "CyKwwhc9EooT"
      },
      "execution_count": null,
      "outputs": []
    },
    {
      "cell_type": "code",
      "source": [
        "for i in rating:\n",
        "    text = i.text.strip()\n",
        "    movies_rating.append(text)\n",
        "len(movies_rating)"
      ],
      "metadata": {
        "id": "8z-FROrfEu4f"
      },
      "execution_count": null,
      "outputs": []
    },
    {
      "cell_type": "code",
      "source": [
        "movies_genre[101]"
      ],
      "metadata": {
        "id": "Lwy-3H7oEok_"
      },
      "execution_count": null,
      "outputs": []
    },
    {
      "cell_type": "code",
      "source": [
        "print(len(movies_title))\n",
        "print(len(movies_sinopsis))\n",
        "print(len(movies_genre))\n",
        "PRINT(len(movies_rating))"
      ],
      "metadata": {
        "id": "3KqFHBB7Eoi2"
      },
      "execution_count": null,
      "outputs": []
    },
    {
      "cell_type": "code",
      "source": [
        "movies_title_fixed = movies_title[:max_data]\n",
        "movies_sinopsis_fixed = movies_sinopsis[:max_data]\n",
        "movies_genre_fixed= movies_genre[:max_data]\n",
        "\n",
        "if len(movies_title) != len(movies_sinopsis):\n",
        "    print(\"Error: Arrays must have the same length.\")\n",
        "else:\n",
        "    data = {\"title\": movies_title_fixed, \"sinopsis\": movies_sinopsis_fixed, \"genre\": movies_genre_fixed}\n",
        "    df = pd.DataFrame(data)\n",
        "\n",
        "    csv_filename = \"movies (6).csv\"\n",
        "    df.to_csv(csv_filename, index=False, encoding=\"utf-8\")\n",
        "    print(f\"Data tersimpan di {csv_filename}\")"
      ],
      "metadata": {
        "id": "WAtDBycWE6nn"
      },
      "execution_count": null,
      "outputs": []
    },
    {
      "cell_type": "markdown",
      "metadata": {
        "id": "JEA0PHb3rHda"
      },
      "source": [
        "**IMPORT DATA**"
      ]
    },
    {
      "cell_type": "code",
      "source": [
        "import pandas as pd\n",
        "\n",
        "movies_df = pd.read_csv('movies (1) (1).csv')\n",
        "movies_df['Genre'] = movies_df[['genre__001', 'genre__002', 'genre__003']].fillna('').agg(', '.join, axis=1)\n",
        "movies_df['Genre'] = movies_df['Genre'].str.strip(', ').replace(', ,', ',')\n",
        "movies_df = movies_df.drop(columns=['genre__001', 'genre__002', 'genre__003', 'rating'])\n",
        "\n",
        "movies_df.to_csv('movies (6).csv', index=False)"
      ],
      "metadata": {
        "id": "Pd0Q7Hl5nBQP"
      },
      "execution_count": 1,
      "outputs": []
    },
    {
      "cell_type": "code",
      "execution_count": 2,
      "metadata": {
        "collapsed": true,
        "id": "66mKpHssanXg",
        "colab": {
          "base_uri": "https://localhost:8080/"
        },
        "outputId": "081c2113-0cc9-4746-b02a-6d366abf3a7c"
      },
      "outputs": [
        {
          "output_type": "stream",
          "name": "stdout",
          "text": [
            "                       title  \\\n",
            "0   The Shawshank Redemption   \n",
            "1            The Dark Knight   \n",
            "2                  Inception   \n",
            "3                 Fight Club   \n",
            "4            Game of Thrones   \n",
            "\n",
            "                                            sinopsis  \\\n",
            "0  A banker convicted of uxoricide forms a friend...   \n",
            "1  When a menace known as the Joker wreaks havoc ...   \n",
            "2  A thief who steals corporate secrets through t...   \n",
            "3  An insomniac office worker and a devil-may-car...   \n",
            "4  Nine noble families fight for control over the...   \n",
            "\n",
            "                       Genre  \n",
            "0                      Drama  \n",
            "1       Action, Crime, Drama  \n",
            "2  Action, Adventure, Sci-Fi  \n",
            "3                      Drama  \n",
            "4   Action, Adventure, Drama  \n"
          ]
        }
      ],
      "source": [
        "import pandas as pd\n",
        "\n",
        "df = pd.read_csv('movies (6).csv')\n",
        "print(df.head())"
      ]
    },
    {
      "cell_type": "code",
      "execution_count": 3,
      "metadata": {
        "id": "29ZVUlYrnDVn",
        "colab": {
          "base_uri": "https://localhost:8080/"
        },
        "outputId": "2fee019f-c5ec-4b21-8af1-b6940685269f"
      },
      "outputs": [
        {
          "output_type": "stream",
          "name": "stdout",
          "text": [
            "Genre\n",
            "Action, Adventure, Sci-Fi       104\n",
            "Animation, Adventure, Comedy     83\n",
            "Action, Adventure, Fantasy       62\n",
            "Comedy, Drama, Romance           62\n",
            "Comedy                           61\n",
            "                               ... \n",
            "Adventure, Drama, Horror          1\n",
            "Animation, Comedy, Fantasy        1\n",
            "Fantasy, Mystery, Sci-Fi          1\n",
            "Biography, Drama, Thriller        1\n",
            "Adventure, Comedy, Musical        1\n",
            "Name: count, Length: 230, dtype: int64\n"
          ]
        }
      ],
      "source": [
        "genre_counts = df['Genre'].value_counts()\n",
        "print(genre_counts)"
      ]
    },
    {
      "cell_type": "code",
      "source": [
        "df.info()"
      ],
      "metadata": {
        "colab": {
          "base_uri": "https://localhost:8080/"
        },
        "id": "GuW6YyoRT_Hg",
        "outputId": "5a060399-22db-4e69-9d3a-56acc81604fb"
      },
      "execution_count": 4,
      "outputs": [
        {
          "output_type": "stream",
          "name": "stdout",
          "text": [
            "<class 'pandas.core.frame.DataFrame'>\n",
            "RangeIndex: 2000 entries, 0 to 1999\n",
            "Data columns (total 3 columns):\n",
            " #   Column    Non-Null Count  Dtype \n",
            "---  ------    --------------  ----- \n",
            " 0   title     2000 non-null   object\n",
            " 1   sinopsis  2000 non-null   object\n",
            " 2   Genre     2000 non-null   object\n",
            "dtypes: object(3)\n",
            "memory usage: 47.0+ KB\n"
          ]
        }
      ]
    },
    {
      "cell_type": "markdown",
      "metadata": {
        "id": "L2J3tqDDrRAY"
      },
      "source": [
        "**OVERSAMPLING**"
      ]
    },
    {
      "cell_type": "code",
      "execution_count": 5,
      "metadata": {
        "collapsed": true,
        "id": "7LpUzYs0sIkD",
        "colab": {
          "base_uri": "https://localhost:8080/"
        },
        "outputId": "990ad890-bb74-44bf-b39b-a2a7d1c36982"
      },
      "outputs": [
        {
          "output_type": "stream",
          "name": "stdout",
          "text": [
            "Jumlah genre setelah penyeimbangan:\n",
            "Genre\n",
            "Action, Adventure               104\n",
            "Comedy, Horror, Mystery         104\n",
            "Comedy, Horror, Thriller        104\n",
            "Comedy, Music                   104\n",
            "Comedy, Music, Romance          104\n",
            "                               ... \n",
            "Adventure, Sci-Fi               104\n",
            "Animation, Action, Adventure    104\n",
            "Animation, Action, Comedy       104\n",
            "Animation, Action, Crime        104\n",
            "Thriller                        104\n",
            "Name: count, Length: 230, dtype: int64\n"
          ]
        }
      ],
      "source": [
        "df = pd.read_csv('movies (6).csv')\n",
        "genre_counts = df['Genre'].value_counts()\n",
        "max_count = genre_counts.max()\n",
        "df_balanced = pd.concat([\n",
        "    genre_data.sample(max_count, replace=True, random_state=42) if len(genre_data) < max_count else genre_data\n",
        "    for genre, genre_data in df.groupby('Genre')\n",
        "])\n",
        "print(\"Jumlah genre setelah penyeimbangan:\")\n",
        "print(df_balanced['Genre'].value_counts())\n",
        "\n",
        "df_balanced.to_csv('movies_seimbang.csv', index=False)"
      ]
    },
    {
      "cell_type": "markdown",
      "metadata": {
        "id": "XXahtQt-rWmd"
      },
      "source": [
        "**PRE-PROCESSING**"
      ]
    },
    {
      "cell_type": "code",
      "execution_count": 6,
      "metadata": {
        "collapsed": true,
        "id": "GR59PGJGupJB",
        "colab": {
          "base_uri": "https://localhost:8080/"
        },
        "outputId": "f37ab2fd-ca5b-4f0e-f391-36aa30defda1"
      },
      "outputs": [
        {
          "output_type": "stream",
          "name": "stdout",
          "text": [
            "Requirement already satisfied: spacy in /usr/local/lib/python3.10/dist-packages (3.7.5)\n",
            "Requirement already satisfied: spacy-legacy<3.1.0,>=3.0.11 in /usr/local/lib/python3.10/dist-packages (from spacy) (3.0.12)\n",
            "Requirement already satisfied: spacy-loggers<2.0.0,>=1.0.0 in /usr/local/lib/python3.10/dist-packages (from spacy) (1.0.5)\n",
            "Requirement already satisfied: murmurhash<1.1.0,>=0.28.0 in /usr/local/lib/python3.10/dist-packages (from spacy) (1.0.11)\n",
            "Requirement already satisfied: cymem<2.1.0,>=2.0.2 in /usr/local/lib/python3.10/dist-packages (from spacy) (2.0.10)\n",
            "Requirement already satisfied: preshed<3.1.0,>=3.0.2 in /usr/local/lib/python3.10/dist-packages (from spacy) (3.0.9)\n",
            "Requirement already satisfied: thinc<8.3.0,>=8.2.2 in /usr/local/lib/python3.10/dist-packages (from spacy) (8.2.5)\n",
            "Requirement already satisfied: wasabi<1.2.0,>=0.9.1 in /usr/local/lib/python3.10/dist-packages (from spacy) (1.1.3)\n",
            "Requirement already satisfied: srsly<3.0.0,>=2.4.3 in /usr/local/lib/python3.10/dist-packages (from spacy) (2.5.0)\n",
            "Requirement already satisfied: catalogue<2.1.0,>=2.0.6 in /usr/local/lib/python3.10/dist-packages (from spacy) (2.0.10)\n",
            "Requirement already satisfied: weasel<0.5.0,>=0.1.0 in /usr/local/lib/python3.10/dist-packages (from spacy) (0.4.1)\n",
            "Requirement already satisfied: typer<1.0.0,>=0.3.0 in /usr/local/lib/python3.10/dist-packages (from spacy) (0.15.1)\n",
            "Requirement already satisfied: tqdm<5.0.0,>=4.38.0 in /usr/local/lib/python3.10/dist-packages (from spacy) (4.67.1)\n",
            "Requirement already satisfied: requests<3.0.0,>=2.13.0 in /usr/local/lib/python3.10/dist-packages (from spacy) (2.32.3)\n",
            "Requirement already satisfied: pydantic!=1.8,!=1.8.1,<3.0.0,>=1.7.4 in /usr/local/lib/python3.10/dist-packages (from spacy) (2.10.3)\n",
            "Requirement already satisfied: jinja2 in /usr/local/lib/python3.10/dist-packages (from spacy) (3.1.4)\n",
            "Requirement already satisfied: setuptools in /usr/local/lib/python3.10/dist-packages (from spacy) (75.1.0)\n",
            "Requirement already satisfied: packaging>=20.0 in /usr/local/lib/python3.10/dist-packages (from spacy) (24.2)\n",
            "Requirement already satisfied: langcodes<4.0.0,>=3.2.0 in /usr/local/lib/python3.10/dist-packages (from spacy) (3.5.0)\n",
            "Requirement already satisfied: numpy>=1.19.0 in /usr/local/lib/python3.10/dist-packages (from spacy) (1.26.4)\n",
            "Requirement already satisfied: language-data>=1.2 in /usr/local/lib/python3.10/dist-packages (from langcodes<4.0.0,>=3.2.0->spacy) (1.3.0)\n",
            "Requirement already satisfied: annotated-types>=0.6.0 in /usr/local/lib/python3.10/dist-packages (from pydantic!=1.8,!=1.8.1,<3.0.0,>=1.7.4->spacy) (0.7.0)\n",
            "Requirement already satisfied: pydantic-core==2.27.1 in /usr/local/lib/python3.10/dist-packages (from pydantic!=1.8,!=1.8.1,<3.0.0,>=1.7.4->spacy) (2.27.1)\n",
            "Requirement already satisfied: typing-extensions>=4.12.2 in /usr/local/lib/python3.10/dist-packages (from pydantic!=1.8,!=1.8.1,<3.0.0,>=1.7.4->spacy) (4.12.2)\n",
            "Requirement already satisfied: charset-normalizer<4,>=2 in /usr/local/lib/python3.10/dist-packages (from requests<3.0.0,>=2.13.0->spacy) (3.4.0)\n",
            "Requirement already satisfied: idna<4,>=2.5 in /usr/local/lib/python3.10/dist-packages (from requests<3.0.0,>=2.13.0->spacy) (3.10)\n",
            "Requirement already satisfied: urllib3<3,>=1.21.1 in /usr/local/lib/python3.10/dist-packages (from requests<3.0.0,>=2.13.0->spacy) (2.2.3)\n",
            "Requirement already satisfied: certifi>=2017.4.17 in /usr/local/lib/python3.10/dist-packages (from requests<3.0.0,>=2.13.0->spacy) (2024.12.14)\n",
            "Requirement already satisfied: blis<0.8.0,>=0.7.8 in /usr/local/lib/python3.10/dist-packages (from thinc<8.3.0,>=8.2.2->spacy) (0.7.11)\n",
            "Requirement already satisfied: confection<1.0.0,>=0.0.1 in /usr/local/lib/python3.10/dist-packages (from thinc<8.3.0,>=8.2.2->spacy) (0.1.5)\n",
            "Requirement already satisfied: click>=8.0.0 in /usr/local/lib/python3.10/dist-packages (from typer<1.0.0,>=0.3.0->spacy) (8.1.7)\n",
            "Requirement already satisfied: shellingham>=1.3.0 in /usr/local/lib/python3.10/dist-packages (from typer<1.0.0,>=0.3.0->spacy) (1.5.4)\n",
            "Requirement already satisfied: rich>=10.11.0 in /usr/local/lib/python3.10/dist-packages (from typer<1.0.0,>=0.3.0->spacy) (13.9.4)\n",
            "Requirement already satisfied: cloudpathlib<1.0.0,>=0.7.0 in /usr/local/lib/python3.10/dist-packages (from weasel<0.5.0,>=0.1.0->spacy) (0.20.0)\n",
            "Requirement already satisfied: smart-open<8.0.0,>=5.2.1 in /usr/local/lib/python3.10/dist-packages (from weasel<0.5.0,>=0.1.0->spacy) (7.1.0)\n",
            "Requirement already satisfied: MarkupSafe>=2.0 in /usr/local/lib/python3.10/dist-packages (from jinja2->spacy) (3.0.2)\n",
            "Requirement already satisfied: marisa-trie>=1.1.0 in /usr/local/lib/python3.10/dist-packages (from language-data>=1.2->langcodes<4.0.0,>=3.2.0->spacy) (1.2.1)\n",
            "Requirement already satisfied: markdown-it-py>=2.2.0 in /usr/local/lib/python3.10/dist-packages (from rich>=10.11.0->typer<1.0.0,>=0.3.0->spacy) (3.0.0)\n",
            "Requirement already satisfied: pygments<3.0.0,>=2.13.0 in /usr/local/lib/python3.10/dist-packages (from rich>=10.11.0->typer<1.0.0,>=0.3.0->spacy) (2.18.0)\n",
            "Requirement already satisfied: wrapt in /usr/local/lib/python3.10/dist-packages (from smart-open<8.0.0,>=5.2.1->weasel<0.5.0,>=0.1.0->spacy) (1.17.0)\n",
            "Requirement already satisfied: mdurl~=0.1 in /usr/local/lib/python3.10/dist-packages (from markdown-it-py>=2.2.0->rich>=10.11.0->typer<1.0.0,>=0.3.0->spacy) (0.1.2)\n"
          ]
        }
      ],
      "source": [
        "!pip install spacy"
      ]
    },
    {
      "cell_type": "code",
      "execution_count": 7,
      "metadata": {
        "collapsed": true,
        "id": "XOv9kisfuuWF",
        "colab": {
          "base_uri": "https://localhost:8080/"
        },
        "outputId": "880cea49-954f-40a8-da11-6c80aeb46476"
      },
      "outputs": [
        {
          "output_type": "stream",
          "name": "stdout",
          "text": [
            "Collecting en-core-web-sm==3.7.1\n",
            "  Downloading https://github.com/explosion/spacy-models/releases/download/en_core_web_sm-3.7.1/en_core_web_sm-3.7.1-py3-none-any.whl (12.8 MB)\n",
            "\u001b[2K     \u001b[90m━━━━━━━━━━━━━━━━━━━━━━━━━━━━━━━━━━━━━━━━\u001b[0m \u001b[32m12.8/12.8 MB\u001b[0m \u001b[31m45.6 MB/s\u001b[0m eta \u001b[36m0:00:00\u001b[0m\n",
            "\u001b[?25hRequirement already satisfied: spacy<3.8.0,>=3.7.2 in /usr/local/lib/python3.10/dist-packages (from en-core-web-sm==3.7.1) (3.7.5)\n",
            "Requirement already satisfied: spacy-legacy<3.1.0,>=3.0.11 in /usr/local/lib/python3.10/dist-packages (from spacy<3.8.0,>=3.7.2->en-core-web-sm==3.7.1) (3.0.12)\n",
            "Requirement already satisfied: spacy-loggers<2.0.0,>=1.0.0 in /usr/local/lib/python3.10/dist-packages (from spacy<3.8.0,>=3.7.2->en-core-web-sm==3.7.1) (1.0.5)\n",
            "Requirement already satisfied: murmurhash<1.1.0,>=0.28.0 in /usr/local/lib/python3.10/dist-packages (from spacy<3.8.0,>=3.7.2->en-core-web-sm==3.7.1) (1.0.11)\n",
            "Requirement already satisfied: cymem<2.1.0,>=2.0.2 in /usr/local/lib/python3.10/dist-packages (from spacy<3.8.0,>=3.7.2->en-core-web-sm==3.7.1) (2.0.10)\n",
            "Requirement already satisfied: preshed<3.1.0,>=3.0.2 in /usr/local/lib/python3.10/dist-packages (from spacy<3.8.0,>=3.7.2->en-core-web-sm==3.7.1) (3.0.9)\n",
            "Requirement already satisfied: thinc<8.3.0,>=8.2.2 in /usr/local/lib/python3.10/dist-packages (from spacy<3.8.0,>=3.7.2->en-core-web-sm==3.7.1) (8.2.5)\n",
            "Requirement already satisfied: wasabi<1.2.0,>=0.9.1 in /usr/local/lib/python3.10/dist-packages (from spacy<3.8.0,>=3.7.2->en-core-web-sm==3.7.1) (1.1.3)\n",
            "Requirement already satisfied: srsly<3.0.0,>=2.4.3 in /usr/local/lib/python3.10/dist-packages (from spacy<3.8.0,>=3.7.2->en-core-web-sm==3.7.1) (2.5.0)\n",
            "Requirement already satisfied: catalogue<2.1.0,>=2.0.6 in /usr/local/lib/python3.10/dist-packages (from spacy<3.8.0,>=3.7.2->en-core-web-sm==3.7.1) (2.0.10)\n",
            "Requirement already satisfied: weasel<0.5.0,>=0.1.0 in /usr/local/lib/python3.10/dist-packages (from spacy<3.8.0,>=3.7.2->en-core-web-sm==3.7.1) (0.4.1)\n",
            "Requirement already satisfied: typer<1.0.0,>=0.3.0 in /usr/local/lib/python3.10/dist-packages (from spacy<3.8.0,>=3.7.2->en-core-web-sm==3.7.1) (0.15.1)\n",
            "Requirement already satisfied: tqdm<5.0.0,>=4.38.0 in /usr/local/lib/python3.10/dist-packages (from spacy<3.8.0,>=3.7.2->en-core-web-sm==3.7.1) (4.67.1)\n",
            "Requirement already satisfied: requests<3.0.0,>=2.13.0 in /usr/local/lib/python3.10/dist-packages (from spacy<3.8.0,>=3.7.2->en-core-web-sm==3.7.1) (2.32.3)\n",
            "Requirement already satisfied: pydantic!=1.8,!=1.8.1,<3.0.0,>=1.7.4 in /usr/local/lib/python3.10/dist-packages (from spacy<3.8.0,>=3.7.2->en-core-web-sm==3.7.1) (2.10.3)\n",
            "Requirement already satisfied: jinja2 in /usr/local/lib/python3.10/dist-packages (from spacy<3.8.0,>=3.7.2->en-core-web-sm==3.7.1) (3.1.4)\n",
            "Requirement already satisfied: setuptools in /usr/local/lib/python3.10/dist-packages (from spacy<3.8.0,>=3.7.2->en-core-web-sm==3.7.1) (75.1.0)\n",
            "Requirement already satisfied: packaging>=20.0 in /usr/local/lib/python3.10/dist-packages (from spacy<3.8.0,>=3.7.2->en-core-web-sm==3.7.1) (24.2)\n",
            "Requirement already satisfied: langcodes<4.0.0,>=3.2.0 in /usr/local/lib/python3.10/dist-packages (from spacy<3.8.0,>=3.7.2->en-core-web-sm==3.7.1) (3.5.0)\n",
            "Requirement already satisfied: numpy>=1.19.0 in /usr/local/lib/python3.10/dist-packages (from spacy<3.8.0,>=3.7.2->en-core-web-sm==3.7.1) (1.26.4)\n",
            "Requirement already satisfied: language-data>=1.2 in /usr/local/lib/python3.10/dist-packages (from langcodes<4.0.0,>=3.2.0->spacy<3.8.0,>=3.7.2->en-core-web-sm==3.7.1) (1.3.0)\n",
            "Requirement already satisfied: annotated-types>=0.6.0 in /usr/local/lib/python3.10/dist-packages (from pydantic!=1.8,!=1.8.1,<3.0.0,>=1.7.4->spacy<3.8.0,>=3.7.2->en-core-web-sm==3.7.1) (0.7.0)\n",
            "Requirement already satisfied: pydantic-core==2.27.1 in /usr/local/lib/python3.10/dist-packages (from pydantic!=1.8,!=1.8.1,<3.0.0,>=1.7.4->spacy<3.8.0,>=3.7.2->en-core-web-sm==3.7.1) (2.27.1)\n",
            "Requirement already satisfied: typing-extensions>=4.12.2 in /usr/local/lib/python3.10/dist-packages (from pydantic!=1.8,!=1.8.1,<3.0.0,>=1.7.4->spacy<3.8.0,>=3.7.2->en-core-web-sm==3.7.1) (4.12.2)\n",
            "Requirement already satisfied: charset-normalizer<4,>=2 in /usr/local/lib/python3.10/dist-packages (from requests<3.0.0,>=2.13.0->spacy<3.8.0,>=3.7.2->en-core-web-sm==3.7.1) (3.4.0)\n",
            "Requirement already satisfied: idna<4,>=2.5 in /usr/local/lib/python3.10/dist-packages (from requests<3.0.0,>=2.13.0->spacy<3.8.0,>=3.7.2->en-core-web-sm==3.7.1) (3.10)\n",
            "Requirement already satisfied: urllib3<3,>=1.21.1 in /usr/local/lib/python3.10/dist-packages (from requests<3.0.0,>=2.13.0->spacy<3.8.0,>=3.7.2->en-core-web-sm==3.7.1) (2.2.3)\n",
            "Requirement already satisfied: certifi>=2017.4.17 in /usr/local/lib/python3.10/dist-packages (from requests<3.0.0,>=2.13.0->spacy<3.8.0,>=3.7.2->en-core-web-sm==3.7.1) (2024.12.14)\n",
            "Requirement already satisfied: blis<0.8.0,>=0.7.8 in /usr/local/lib/python3.10/dist-packages (from thinc<8.3.0,>=8.2.2->spacy<3.8.0,>=3.7.2->en-core-web-sm==3.7.1) (0.7.11)\n",
            "Requirement already satisfied: confection<1.0.0,>=0.0.1 in /usr/local/lib/python3.10/dist-packages (from thinc<8.3.0,>=8.2.2->spacy<3.8.0,>=3.7.2->en-core-web-sm==3.7.1) (0.1.5)\n",
            "Requirement already satisfied: click>=8.0.0 in /usr/local/lib/python3.10/dist-packages (from typer<1.0.0,>=0.3.0->spacy<3.8.0,>=3.7.2->en-core-web-sm==3.7.1) (8.1.7)\n",
            "Requirement already satisfied: shellingham>=1.3.0 in /usr/local/lib/python3.10/dist-packages (from typer<1.0.0,>=0.3.0->spacy<3.8.0,>=3.7.2->en-core-web-sm==3.7.1) (1.5.4)\n",
            "Requirement already satisfied: rich>=10.11.0 in /usr/local/lib/python3.10/dist-packages (from typer<1.0.0,>=0.3.0->spacy<3.8.0,>=3.7.2->en-core-web-sm==3.7.1) (13.9.4)\n",
            "Requirement already satisfied: cloudpathlib<1.0.0,>=0.7.0 in /usr/local/lib/python3.10/dist-packages (from weasel<0.5.0,>=0.1.0->spacy<3.8.0,>=3.7.2->en-core-web-sm==3.7.1) (0.20.0)\n",
            "Requirement already satisfied: smart-open<8.0.0,>=5.2.1 in /usr/local/lib/python3.10/dist-packages (from weasel<0.5.0,>=0.1.0->spacy<3.8.0,>=3.7.2->en-core-web-sm==3.7.1) (7.1.0)\n",
            "Requirement already satisfied: MarkupSafe>=2.0 in /usr/local/lib/python3.10/dist-packages (from jinja2->spacy<3.8.0,>=3.7.2->en-core-web-sm==3.7.1) (3.0.2)\n",
            "Requirement already satisfied: marisa-trie>=1.1.0 in /usr/local/lib/python3.10/dist-packages (from language-data>=1.2->langcodes<4.0.0,>=3.2.0->spacy<3.8.0,>=3.7.2->en-core-web-sm==3.7.1) (1.2.1)\n",
            "Requirement already satisfied: markdown-it-py>=2.2.0 in /usr/local/lib/python3.10/dist-packages (from rich>=10.11.0->typer<1.0.0,>=0.3.0->spacy<3.8.0,>=3.7.2->en-core-web-sm==3.7.1) (3.0.0)\n",
            "Requirement already satisfied: pygments<3.0.0,>=2.13.0 in /usr/local/lib/python3.10/dist-packages (from rich>=10.11.0->typer<1.0.0,>=0.3.0->spacy<3.8.0,>=3.7.2->en-core-web-sm==3.7.1) (2.18.0)\n",
            "Requirement already satisfied: wrapt in /usr/local/lib/python3.10/dist-packages (from smart-open<8.0.0,>=5.2.1->weasel<0.5.0,>=0.1.0->spacy<3.8.0,>=3.7.2->en-core-web-sm==3.7.1) (1.17.0)\n",
            "Requirement already satisfied: mdurl~=0.1 in /usr/local/lib/python3.10/dist-packages (from markdown-it-py>=2.2.0->rich>=10.11.0->typer<1.0.0,>=0.3.0->spacy<3.8.0,>=3.7.2->en-core-web-sm==3.7.1) (0.1.2)\n",
            "\u001b[38;5;2m✔ Download and installation successful\u001b[0m\n",
            "You can now load the package via spacy.load('en_core_web_sm')\n",
            "\u001b[38;5;3m⚠ Restart to reload dependencies\u001b[0m\n",
            "If you are in a Jupyter or Colab notebook, you may need to restart Python in\n",
            "order to load all the package's dependencies. You can do this by selecting the\n",
            "'Restart kernel' or 'Restart runtime' option.\n"
          ]
        }
      ],
      "source": [
        "!python -m spacy download en_core_web_sm"
      ]
    },
    {
      "cell_type": "code",
      "execution_count": 8,
      "metadata": {
        "id": "KampMQFQvrWl",
        "colab": {
          "base_uri": "https://localhost:8080/"
        },
        "outputId": "841684d0-76ae-468a-8dba-4a741492e23d"
      },
      "outputs": [
        {
          "output_type": "stream",
          "name": "stdout",
          "text": [
            "                                            sinopsis  \\\n",
            "0  Street-smart Nathan Drake is recruited by seas...   \n",
            "1  In 1935, Indiana Jones is tasked by Indian vil...   \n",
            "2  Set in 1957, it pits Indiana Jones against Sov...   \n",
            "3  Street-smart Nathan Drake is recruited by seas...   \n",
            "4  When the Dark Elves attempt to plunge the univ...   \n",
            "\n",
            "                                      sinopsis_clean  \n",
            "0  street smart nathan drake recruit seasoned tre...  \n",
            "1  indiana jones task indian villager reclaim roc...  \n",
            "2  set pit indiana jones soviet kgb agent lead ir...  \n",
            "3  street smart nathan drake recruit seasoned tre...  \n",
            "4  dark elve attempt plunge universe darkness tho...  \n"
          ]
        }
      ],
      "source": [
        "import spacy\n",
        "\n",
        "nlp = spacy.load('en_core_web_sm')\n",
        "df = pd.read_csv('movies_seimbang.csv')\n",
        "def clean_and_remove_stopwords(text):\n",
        "    doc = nlp(text.lower())\n",
        "    return ' '.join([token.lemma_ for token in doc if token.is_alpha and not token.is_stop])\n",
        "\n",
        "df['sinopsis_clean'] = df['sinopsis'].apply(clean_and_remove_stopwords)\n",
        "print(df[['sinopsis', 'sinopsis_clean']].head())"
      ]
    },
    {
      "cell_type": "code",
      "execution_count": 9,
      "metadata": {
        "collapsed": true,
        "id": "OZbAwHiPwuZI",
        "colab": {
          "base_uri": "https://localhost:8080/"
        },
        "outputId": "b02d8f6f-7aaf-46a1-b6d8-384d6a29d9f1"
      },
      "outputs": [
        {
          "output_type": "stream",
          "name": "stdout",
          "text": [
            "                                      sinopsis_clean  Action  Adventure  \\\n",
            "0  street smart nathan drake recruit seasoned tre...       1          1   \n",
            "1  indiana jones task indian villager reclaim roc...       1          1   \n",
            "2  set pit indiana jones soviet kgb agent lead ir...       1          1   \n",
            "3  street smart nathan drake recruit seasoned tre...       1          1   \n",
            "4  dark elve attempt plunge universe darkness tho...       1          1   \n",
            "\n",
            "   Animation  Biography  Comedy  Crime  Documentary  Drama  Family  ...  \\\n",
            "0          0          0       0      0            0      0       0  ...   \n",
            "1          0          0       0      0            0      0       0  ...   \n",
            "2          0          0       0      0            0      0       0  ...   \n",
            "3          0          0       0      0            0      0       0  ...   \n",
            "4          0          0       0      0            0      0       0  ...   \n",
            "\n",
            "   Music  Musical  Mystery  Romance  Sci-Fi  Short  Sport  Thriller  War  \\\n",
            "0      0        0        0        0       0      0      0         0    0   \n",
            "1      0        0        0        0       0      0      0         0    0   \n",
            "2      0        0        0        0       0      0      0         0    0   \n",
            "3      0        0        0        0       0      0      0         0    0   \n",
            "4      0        0        0        0       0      0      0         0    0   \n",
            "\n",
            "   Western  \n",
            "0        0  \n",
            "1        0  \n",
            "2        0  \n",
            "3        0  \n",
            "4        0  \n",
            "\n",
            "[5 rows x 24 columns]\n",
            "OHE diismpan dicsv.\n"
          ]
        }
      ],
      "source": [
        "df['Genre_list'] = df['Genre'].apply(lambda x: x.split(', '))\n",
        "\n",
        "from sklearn.preprocessing import MultiLabelBinarizer\n",
        "mlb = MultiLabelBinarizer()\n",
        "df_genre_encoded = pd.DataFrame(mlb.fit_transform(df['Genre_list']), columns=mlb.classes_)\n",
        "df_final = pd.concat([df[['sinopsis_clean']], df_genre_encoded], axis=1)\n",
        "df_genre_encoded.to_csv('genre_one_hot_encoding.csv', index=False)\n",
        "print(df_final.head())\n",
        "print(\"OHE diismpan dicsv.\")"
      ]
    },
    {
      "cell_type": "code",
      "source": [
        "import joblib\n",
        "\n",
        "joblib.dump(mlb, 'mlb_genre.pkl')\n",
        "print(\"MultiLabelBinarizer disimpan ke 'mlb_genre.pkl'.\")"
      ],
      "metadata": {
        "colab": {
          "base_uri": "https://localhost:8080/"
        },
        "id": "OWJaHu50ynwd",
        "outputId": "e3e3ea38-4240-4785-b862-ececbe0ab065"
      },
      "execution_count": 10,
      "outputs": [
        {
          "output_type": "stream",
          "name": "stdout",
          "text": [
            "MultiLabelBinarizer disimpan ke 'mlb_genre.pkl'.\n"
          ]
        }
      ]
    },
    {
      "cell_type": "markdown",
      "source": [
        "**FEATURE ENGINEERING**"
      ],
      "metadata": {
        "id": "4u4W_g8Tl8FC"
      }
    },
    {
      "cell_type": "code",
      "execution_count": 11,
      "metadata": {
        "collapsed": true,
        "id": "uY2qq_hplwXu",
        "colab": {
          "base_uri": "https://localhost:8080/"
        },
        "outputId": "af3b1f27-bf33-4b72-e00d-9c46b809a211"
      },
      "outputs": [
        {
          "output_type": "stream",
          "name": "stdout",
          "text": [
            "  (0, 4271)\t0.17703428203219176\n",
            "  (0, 4116)\t0.22126690865754067\n",
            "  (0, 3008)\t0.24590815027904234\n",
            "  (0, 1329)\t0.25913474290978933\n",
            "  (0, 3637)\t0.17146534659598198\n",
            "  (0, 3947)\t0.25913474290978933\n",
            "  (0, 4591)\t0.19720204598786667\n",
            "  (0, 2151)\t0.1546557545134864\n",
            "  (0, 4784)\t0.2433280356065288\n",
            "  (0, 4328)\t0.2433280356065288\n",
            "  (0, 4327)\t0.2472836411850997\n",
            "  (0, 3636)\t0.1904649301853936\n",
            "  (0, 1746)\t0.19453285331125436\n",
            "  (0, 144)\t0.25913474290978933\n",
            "  (0, 1654)\t0.25913474290978933\n",
            "  (0, 2676)\t0.25913474290978933\n",
            "  (0, 2633)\t0.15602483824480204\n",
            "  (0, 4984)\t0.11959855757551274\n",
            "  (0, 94)\t0.20695174069645342\n",
            "  (0, 2130)\t0.17015851917358416\n",
            "  (0, 2900)\t0.25913474290978933\n",
            "  (1, 2232)\t0.2729352422763616\n",
            "  (1, 2419)\t0.25688237966171085\n",
            "  (1, 4417)\t0.2230241135397984\n",
            "  (1, 2231)\t0.2528693538967704\n",
            "  :\t:\n",
            "  (23918, 677)\t0.26654280633022903\n",
            "  (23918, 3985)\t0.20978613888477052\n",
            "  (23918, 1110)\t0.25203763127007134\n",
            "  (23918, 2527)\t0.25850260047756574\n",
            "  (23918, 4046)\t0.23865213934336182\n",
            "  (23918, 699)\t0.26078955818065086\n",
            "  (23918, 1208)\t0.265778659464937\n",
            "  (23918, 4605)\t0.2677159778733675\n",
            "  (23918, 3420)\t0.2677159778733675\n",
            "  (23919, 2576)\t0.13311482767772667\n",
            "  (23919, 3963)\t0.2452695571510613\n",
            "  (23919, 4228)\t0.1995180288783944\n",
            "  (23919, 1112)\t0.3873953314988075\n",
            "  (23919, 858)\t0.223444712679922\n",
            "  (23919, 1524)\t0.19778100243395985\n",
            "  (23919, 4778)\t0.24258186104119764\n",
            "  (23919, 677)\t0.26654280633022903\n",
            "  (23919, 3985)\t0.20978613888477052\n",
            "  (23919, 1110)\t0.25203763127007134\n",
            "  (23919, 2527)\t0.25850260047756574\n",
            "  (23919, 4046)\t0.23865213934336182\n",
            "  (23919, 699)\t0.26078955818065086\n",
            "  (23919, 1208)\t0.265778659464937\n",
            "  (23919, 4605)\t0.2677159778733675\n",
            "  (23919, 3420)\t0.2677159778733675\n",
            "TF-IDF diismpan dicsv'.\n"
          ]
        }
      ],
      "source": [
        "from sklearn.feature_extraction.text import TfidfVectorizer\n",
        "from sklearn.preprocessing import MultiLabelBinarizer\n",
        "\n",
        "tfidf_vectorizer = TfidfVectorizer(max_features=5000)\n",
        "X_tfidf = tfidf_vectorizer.fit_transform(df['sinopsis_clean'])\n",
        "\n",
        "tfidf_features = pd.DataFrame(\n",
        "    X_tfidf.toarray(),\n",
        "    columns=tfidf_vectorizer.get_feature_names_out()\n",
        ")\n",
        "print(X_tfidf)\n",
        "tfidf_features.to_csv('tfidf_features.csv', index=False)\n",
        "print(\"TF-IDF diismpan dicsv'.\")"
      ]
    },
    {
      "cell_type": "code",
      "source": [
        "import joblib\n",
        "\n",
        "joblib.dump(tfidf_vectorizer, 'tfidf_vectorizer.pkl')\n",
        "print(\"TF-IDF vectorizer berhasil disimpan ke 'tfidf_vectorizer.pkl'.\")"
      ],
      "metadata": {
        "colab": {
          "base_uri": "https://localhost:8080/"
        },
        "id": "vRBrONecxI0P",
        "outputId": "e7ef1423-e7d9-48c0-a7fb-44c89dfd1e5c"
      },
      "execution_count": 12,
      "outputs": [
        {
          "output_type": "stream",
          "name": "stdout",
          "text": [
            "TF-IDF vectorizer berhasil disimpan ke 'tfidf_vectorizer.pkl'.\n"
          ]
        }
      ]
    },
    {
      "cell_type": "markdown",
      "source": [
        "###### EXPLORASI FEATURE ENGINEERING ######\n",
        "\n"
      ],
      "metadata": {
        "id": "ayGIMnSh4qxp"
      }
    },
    {
      "cell_type": "code",
      "source": [
        "print(f'Dimensi dataset TF-IDF: {tfidf_features.shape}')\n",
        "\n",
        "print('Ringkasan statistik:')\n",
        "print(tfidf_features.describe())"
      ],
      "metadata": {
        "colab": {
          "base_uri": "https://localhost:8080/"
        },
        "id": "4kb9cePl4c5w",
        "outputId": "b875920b-51f1-4c0c-c504-ec90eb71f1d3"
      },
      "execution_count": 13,
      "outputs": [
        {
          "output_type": "stream",
          "name": "stdout",
          "text": [
            "Dimensi dataset TF-IDF: (23920, 5000)\n",
            "Ringkasan statistik:\n",
            "            abandon        abbott          abby        abduct         abide  \\\n",
            "count  23920.000000  23920.000000  23920.000000  23920.000000  23920.000000   \n",
            "mean       0.000488      0.000083      0.000114      0.000763      0.000111   \n",
            "std        0.013093      0.005266      0.005301      0.017411      0.005728   \n",
            "min        0.000000      0.000000      0.000000      0.000000      0.000000   \n",
            "25%        0.000000      0.000000      0.000000      0.000000      0.000000   \n",
            "50%        0.000000      0.000000      0.000000      0.000000      0.000000   \n",
            "75%        0.000000      0.000000      0.000000      0.000000      0.000000   \n",
            "max        0.409521      0.332531      0.247240      0.425250      0.295342   \n",
            "\n",
            "            ability          able        aboard      abortion       abraham  \\\n",
            "count  23920.000000  23920.000000  23920.000000  23920.000000  23920.000000   \n",
            "mean       0.002853      0.000560      0.000774      0.000136      0.000298   \n",
            "std        0.025368      0.012549      0.015605      0.006348      0.009403   \n",
            "min        0.000000      0.000000      0.000000      0.000000      0.000000   \n",
            "25%        0.000000      0.000000      0.000000      0.000000      0.000000   \n",
            "50%        0.000000      0.000000      0.000000      0.000000      0.000000   \n",
            "75%        0.000000      0.000000      0.000000      0.000000      0.000000   \n",
            "max        0.356654      0.363326      0.373125      0.296086      0.305958   \n",
            "\n",
            "       ...      youthful        yuppie          zack     zamperini  \\\n",
            "count  ...  23920.000000  23920.000000  23920.000000  23920.000000   \n",
            "mean   ...      0.000139      0.000100      0.000356      0.000398   \n",
            "std    ...      0.006807      0.005518      0.009434      0.010241   \n",
            "min    ...      0.000000      0.000000      0.000000      0.000000   \n",
            "25%    ...      0.000000      0.000000      0.000000      0.000000   \n",
            "50%    ...      0.000000      0.000000      0.000000      0.000000   \n",
            "75%    ...      0.000000      0.000000      0.000000      0.000000   \n",
            "max    ...      0.332979      0.337687      0.250401      0.264170   \n",
            "\n",
            "               zany       zealand         zion        zombie          zone  \\\n",
            "count  23920.000000  23920.000000  23920.00000  23920.000000  23920.000000   \n",
            "mean       0.000197      0.000069      0.00012      0.004153      0.001335   \n",
            "std        0.008445      0.005339      0.00654      0.031090      0.019491   \n",
            "min        0.000000      0.000000      0.00000      0.000000      0.000000   \n",
            "25%        0.000000      0.000000      0.00000      0.000000      0.000000   \n",
            "50%        0.000000      0.000000      0.00000      0.000000      0.000000   \n",
            "75%        0.000000      0.000000      0.00000      0.000000      0.000000   \n",
            "max        0.362345      0.412902      0.35768      0.274235      0.343038   \n",
            "\n",
            "               zuko  \n",
            "count  23920.000000  \n",
            "mean       0.000424  \n",
            "std        0.011235  \n",
            "min        0.000000  \n",
            "25%        0.000000  \n",
            "50%        0.000000  \n",
            "75%        0.000000  \n",
            "max        0.298192  \n",
            "\n",
            "[8 rows x 5000 columns]\n"
          ]
        }
      ]
    },
    {
      "cell_type": "code",
      "source": [
        "avg_tfidf = tfidf_features.mean().sort_values(ascending=False)\n",
        "\n",
        "print('10 kata dengan nilai rata-rata TF-IDF tertinggi:')\n",
        "print(avg_tfidf.head(10))"
      ],
      "metadata": {
        "colab": {
          "base_uri": "https://localhost:8080/"
        },
        "id": "cyrrM3nr4gjP",
        "outputId": "5e214499-27a7-4d1d-ffb3-99fb0654f17e"
      },
      "execution_count": 15,
      "outputs": [
        {
          "output_type": "stream",
          "name": "stdout",
          "text": [
            "10 kata dengan nilai rata-rata TF-IDF tertinggi:\n",
            "find        0.016197\n",
            "life        0.015499\n",
            "young       0.014610\n",
            "world       0.014457\n",
            "new         0.012946\n",
            "man         0.011885\n",
            "war         0.011231\n",
            "woman       0.011194\n",
            "help        0.011159\n",
            "discover    0.011080\n",
            "dtype: float64\n"
          ]
        }
      ]
    },
    {
      "cell_type": "code",
      "source": [
        "top_words = avg_tfidf.head(10)\n",
        "plt.figure(figsize=(10, 6))\n",
        "top_words.plot(kind='bar', color='coral')\n",
        "plt.title('10 Kata dengan Nilai Rata-Rata TF-IDF Tertinggi')\n",
        "plt.xlabel('Kata')\n",
        "plt.ylabel('Rata-Rata Nilai TF-IDF')\n",
        "plt.show()\n"
      ],
      "metadata": {
        "id": "ESCCaquo7Pms",
        "colab": {
          "base_uri": "https://localhost:8080/",
          "height": 609
        },
        "outputId": "d7069b54-9a04-46f4-fee6-caea9dd3b9cc"
      },
      "execution_count": 18,
      "outputs": [
        {
          "output_type": "display_data",
          "data": {
            "text/plain": [
              "<Figure size 1000x600 with 1 Axes>"
            ],
            "image/png": "[encoded data removed]"
          },
          "metadata": {}
        }
      ]
    },
    {
      "cell_type": "markdown",
      "source": [
        "**SPLIT DATA**"
      ],
      "metadata": {
        "id": "dYmxJPOfV22i"
      }
    },
    {
      "cell_type": "code",
      "source": [
        "from sklearn.model_selection import train_test_split\n",
        "\n",
        "X_train, X_test, y_train, y_test = train_test_split(X_tfidf, df_genre_encoded, test_size=0.2, random_state=42)\n",
        "\n",
        "print(f\"Data train: {X_train.shape}\")\n",
        "print(f\"Data test: {X_test.shape}\")"
      ],
      "metadata": {
        "id": "0slMxyCwVyfd",
        "colab": {
          "base_uri": "https://localhost:8080/"
        },
        "outputId": "fd5f055b-6a8f-454f-8cda-4f1cf6523454"
      },
      "execution_count": 19,
      "outputs": [
        {
          "output_type": "stream",
          "name": "stdout",
          "text": [
            "Data train: (19136, 5000)\n",
            "Data test: (4784, 5000)\n"
          ]
        }
      ]
    },
    {
      "cell_type": "markdown",
      "source": [
        "**KNN**"
      ],
      "metadata": {
        "id": "I1XhZ2GtVrcZ"
      }
    },
    {
      "cell_type": "code",
      "source": [
        "from sklearn.neighbors import KNeighborsClassifier\n",
        "from sklearn.multiclass import OneVsRestClassifier\n",
        "from sklearn.metrics import classification_report\n",
        "\n",
        "knn = KNeighborsClassifier()\n",
        "model_knn = OneVsRestClassifier(knn)\n",
        "model_knn.fit(X_train, y_train)\n",
        "accuracy_train_knn = model_knn.score(X_train, y_train)\n",
        "print(f\"\\nAkurasi pada data train (KNN): {accuracy_train_knn:.4f}\")\n",
        "\n",
        "y_train_pred_knn = model_knn.predict(X_train)\n",
        "print(classification_report(y_train, y_train_pred_knn, target_names=df_genre_encoded.columns.tolist()))"
      ],
      "metadata": {
        "id": "FCTnGE0MUqcI",
        "colab": {
          "base_uri": "https://localhost:8080/"
        },
        "outputId": "af082d08-dfa4-4034-ee2f-124d99c2e361"
      },
      "execution_count": 20,
      "outputs": [
        {
          "output_type": "stream",
          "name": "stdout",
          "text": [
            "\n",
            "Akurasi pada data train (KNN): 0.9610\n",
            "              precision    recall  f1-score   support\n",
            "\n",
            "      Action       0.98      0.96      0.97      4646\n",
            "   Adventure       0.98      0.95      0.97      3909\n",
            "   Animation       0.97      0.96      0.97      1580\n",
            "   Biography       0.97      0.98      0.98      1421\n",
            "      Comedy       0.98      0.97      0.98      5927\n",
            "       Crime       0.98      0.96      0.97      3483\n",
            " Documentary       1.00      1.00      1.00        88\n",
            "       Drama       0.98      0.98      0.98      8975\n",
            "      Family       0.98      0.99      0.98      1402\n",
            "     Fantasy       0.98      0.99      0.98      2991\n",
            "   Film-Noir       1.00      1.00      1.00       344\n",
            "     History       0.98      0.98      0.98       728\n",
            "      Horror       0.97      1.00      0.98      2842\n",
            "       Music       0.98      1.00      0.99       761\n",
            "     Musical       1.00      1.00      1.00       656\n",
            "     Mystery       0.98      0.98      0.98      3058\n",
            "     Romance       0.98      0.96      0.97      2412\n",
            "      Sci-Fi       0.98      0.97      0.97      2419\n",
            "       Short       1.00      1.00      1.00        81\n",
            "       Sport       0.99      1.00      0.99       675\n",
            "    Thriller       0.97      0.97      0.97      2960\n",
            "         War       0.99      1.00      1.00      1081\n",
            "     Western       1.00      1.00      1.00       417\n",
            "\n",
            "   micro avg       0.98      0.98      0.98     52856\n",
            "   macro avg       0.98      0.98      0.98     52856\n",
            "weighted avg       0.98      0.98      0.98     52856\n",
            " samples avg       0.98      0.98      0.98     52856\n",
            "\n"
          ]
        },
        {
          "output_type": "stream",
          "name": "stderr",
          "text": [
            "/usr/local/lib/python3.10/dist-packages/sklearn/metrics/_classification.py:1565: UndefinedMetricWarning: Precision is ill-defined and being set to 0.0 in samples with no predicted labels. Use `zero_division` parameter to control this behavior.\n",
            "  _warn_prf(average, modifier, f\"{metric.capitalize()} is\", len(result))\n"
          ]
        }
      ]
    },
    {
      "cell_type": "code",
      "source": [
        "import joblib\n",
        "\n",
        "joblib.dump(model_knn, 'knn_genre_model.pkl')\n",
        "print(\"\\nModel KNN berhasil disimpan ke 'knn_genre_model.pkl'.\")"
      ],
      "metadata": {
        "id": "6G2qCJIyV9-p",
        "colab": {
          "base_uri": "https://localhost:8080/"
        },
        "outputId": "3678f907-f316-4e9e-f2ea-0700ac38d3bd"
      },
      "execution_count": 21,
      "outputs": [
        {
          "output_type": "stream",
          "name": "stdout",
          "text": [
            "\n",
            "Model KNN berhasil disimpan ke 'knn_genre_model.pkl'.\n"
          ]
        }
      ]
    },
    {
      "cell_type": "code",
      "source": [
        "from sklearn.metrics import classification_report\n",
        "\n",
        "model_knn = joblib.load('knn_genre_model.pkl')\n",
        "\n",
        "accuracy_test_knn = model_knn.score(X_test, y_test)\n",
        "print(f\"\\nAkurasi pada data test (KNN): {accuracy_test_knn:.4f}\")\n",
        "\n",
        "y_test_pred_knn = model_knn.predict(X_test)\n",
        "print(classification_report(y_test, y_test_pred_knn, target_names=df_genre_encoded.columns.tolist()))"
      ],
      "metadata": {
        "id": "IWChFzQ3WOJ6",
        "colab": {
          "base_uri": "https://localhost:8080/"
        },
        "outputId": "05d354ac-7766-4468-a477-9ad9e036841d"
      },
      "execution_count": 22,
      "outputs": [
        {
          "output_type": "stream",
          "name": "stdout",
          "text": [
            "\n",
            "Akurasi pada data test (KNN): 0.9293\n",
            "              precision    recall  f1-score   support\n",
            "\n",
            "      Action       0.97      0.92      0.94      1178\n",
            "   Adventure       0.96      0.93      0.95       979\n",
            "   Animation       0.95      0.93      0.94       396\n",
            "   Biography       0.95      0.97      0.96       347\n",
            "      Comedy       0.96      0.96      0.96      1457\n",
            "       Crime       0.96      0.92      0.94       885\n",
            " Documentary       1.00      1.00      1.00        16\n",
            "       Drama       0.97      0.97      0.97      2257\n",
            "      Family       0.98      0.98      0.98       366\n",
            "     Fantasy       0.96      0.98      0.97       753\n",
            "   Film-Noir       0.97      1.00      0.99        72\n",
            "     History       0.97      0.97      0.97       208\n",
            "      Horror       0.94      0.99      0.96       694\n",
            "       Music       0.94      1.00      0.97       175\n",
            "     Musical       0.99      1.00      1.00       176\n",
            "     Mystery       0.97      0.96      0.96       790\n",
            "     Romance       0.97      0.93      0.95       604\n",
            "      Sci-Fi       0.96      0.97      0.96       597\n",
            "       Short       1.00      1.00      1.00        23\n",
            "       Sport       0.98      1.00      0.99       157\n",
            "    Thriller       0.95      0.93      0.94       784\n",
            "         War       0.98      1.00      0.99       271\n",
            "     Western       0.99      1.00      1.00       103\n",
            "\n",
            "   micro avg       0.96      0.96      0.96     13288\n",
            "   macro avg       0.97      0.97      0.97     13288\n",
            "weighted avg       0.96      0.96      0.96     13288\n",
            " samples avg       0.96      0.95      0.96     13288\n",
            "\n"
          ]
        },
        {
          "output_type": "stream",
          "name": "stderr",
          "text": [
            "/usr/local/lib/python3.10/dist-packages/sklearn/metrics/_classification.py:1565: UndefinedMetricWarning: Precision is ill-defined and being set to 0.0 in samples with no predicted labels. Use `zero_division` parameter to control this behavior.\n",
            "  _warn_prf(average, modifier, f\"{metric.capitalize()} is\", len(result))\n"
          ]
        }
      ]
    },
    {
      "cell_type": "markdown",
      "source": [
        "**SVM**"
      ],
      "metadata": {
        "id": "CKo6PH-1WXYM"
      }
    },
    {
      "cell_type": "code",
      "source": [
        "from sklearn.svm import SVC\n",
        "from sklearn.multiclass import OneVsRestClassifier\n",
        "from sklearn.metrics import classification_report\n",
        "\n",
        "svm = SVC(probability=True)\n",
        "model_svm = OneVsRestClassifier(svm)\n",
        "\n",
        "model_svm.fit(X_train, y_train)\n",
        "\n",
        "accuracy_train_svm = model_svm.score(X_train, y_train)\n",
        "print(f\"\\nAkurasi pada data train (SVM): {accuracy_train_svm:.4f}\")\n",
        "\n",
        "y_train_pred_svm = model_svm.predict(X_train)\n",
        "print(classification_report(y_train, y_train_pred_svm, target_names=df_genre_encoded.columns.tolist()))"
      ],
      "metadata": {
        "id": "n9edGI36Wf6A",
        "colab": {
          "base_uri": "https://localhost:8080/"
        },
        "outputId": "cdcaa018-c5fc-49fe-e9c9-f961aa0f2f5c"
      },
      "execution_count": 23,
      "outputs": [
        {
          "output_type": "stream",
          "name": "stdout",
          "text": [
            "\n",
            "Akurasi pada data train (SVM): 0.9951\n",
            "              precision    recall  f1-score   support\n",
            "\n",
            "      Action       1.00      1.00      1.00      4646\n",
            "   Adventure       1.00      1.00      1.00      3909\n",
            "   Animation       1.00      0.99      0.99      1580\n",
            "   Biography       1.00      1.00      1.00      1421\n",
            "      Comedy       1.00      1.00      1.00      5927\n",
            "       Crime       1.00      1.00      1.00      3483\n",
            " Documentary       1.00      1.00      1.00        88\n",
            "       Drama       1.00      1.00      1.00      8975\n",
            "      Family       1.00      1.00      1.00      1402\n",
            "     Fantasy       1.00      1.00      1.00      2991\n",
            "   Film-Noir       1.00      1.00      1.00       344\n",
            "     History       1.00      1.00      1.00       728\n",
            "      Horror       1.00      1.00      1.00      2842\n",
            "       Music       1.00      1.00      1.00       761\n",
            "     Musical       1.00      1.00      1.00       656\n",
            "     Mystery       1.00      1.00      1.00      3058\n",
            "     Romance       1.00      0.99      1.00      2412\n",
            "      Sci-Fi       1.00      0.99      1.00      2419\n",
            "       Short       1.00      1.00      1.00        81\n",
            "       Sport       1.00      1.00      1.00       675\n",
            "    Thriller       1.00      1.00      1.00      2960\n",
            "         War       1.00      1.00      1.00      1081\n",
            "     Western       1.00      1.00      1.00       417\n",
            "\n",
            "   micro avg       1.00      1.00      1.00     52856\n",
            "   macro avg       1.00      1.00      1.00     52856\n",
            "weighted avg       1.00      1.00      1.00     52856\n",
            " samples avg       1.00      1.00      1.00     52856\n",
            "\n"
          ]
        },
        {
          "output_type": "stream",
          "name": "stderr",
          "text": [
            "/usr/local/lib/python3.10/dist-packages/sklearn/metrics/_classification.py:1565: UndefinedMetricWarning: Precision is ill-defined and being set to 0.0 in samples with no predicted labels. Use `zero_division` parameter to control this behavior.\n",
            "  _warn_prf(average, modifier, f\"{metric.capitalize()} is\", len(result))\n"
          ]
        }
      ]
    },
    {
      "cell_type": "code",
      "source": [
        "import joblib\n",
        "\n",
        "joblib.dump(model_svm, 'svm_genre_model.pkl')\n",
        "print(\"\\nModel SVM berhasil disimpan ke 'svm_genre_model.pkl'.\")"
      ],
      "metadata": {
        "id": "o3Kb-BWXWdAo",
        "colab": {
          "base_uri": "https://localhost:8080/"
        },
        "outputId": "e947bb8a-43c7-44d6-b572-b1e98643346f"
      },
      "execution_count": 24,
      "outputs": [
        {
          "output_type": "stream",
          "name": "stdout",
          "text": [
            "\n",
            "Model SVM berhasil disimpan ke 'svm_genre_model.pkl'.\n"
          ]
        }
      ]
    },
    {
      "cell_type": "code",
      "source": [
        "from sklearn.metrics import classification_report\n",
        "\n",
        "model_svm = joblib.load('svm_genre_model.pkl')\n",
        "\n",
        "accuracy_test_svm = model_svm.score(X_test, y_test)\n",
        "print(f\"\\nAkurasi pada data test (SVM): {accuracy_test_svm:.4f}\")\n",
        "\n",
        "y_test_pred_svm = model_svm.predict(X_test)\n",
        "print(classification_report(y_test, y_test_pred_svm, target_names=df_genre_encoded.columns.tolist()))"
      ],
      "metadata": {
        "id": "97c1Fy03WqBn",
        "colab": {
          "base_uri": "https://localhost:8080/"
        },
        "outputId": "5190b9c0-b3a5-4ed3-cb91-7e3d6567db53"
      },
      "execution_count": 25,
      "outputs": [
        {
          "output_type": "stream",
          "name": "stdout",
          "text": [
            "\n",
            "Akurasi pada data test (SVM): 0.9747\n",
            "              precision    recall  f1-score   support\n",
            "\n",
            "      Action       1.00      0.97      0.99      1178\n",
            "   Adventure       1.00      0.96      0.98       979\n",
            "   Animation       1.00      0.95      0.98       396\n",
            "   Biography       1.00      1.00      1.00       347\n",
            "      Comedy       1.00      0.98      0.99      1457\n",
            "       Crime       1.00      0.98      0.99       885\n",
            " Documentary       1.00      1.00      1.00        16\n",
            "       Drama       0.99      0.99      0.99      2257\n",
            "      Family       1.00      1.00      1.00       366\n",
            "     Fantasy       1.00      0.99      0.99       753\n",
            "   Film-Noir       1.00      1.00      1.00        72\n",
            "     History       1.00      1.00      1.00       208\n",
            "      Horror       1.00      1.00      1.00       694\n",
            "       Music       1.00      1.00      1.00       175\n",
            "     Musical       1.00      1.00      1.00       176\n",
            "     Mystery       1.00      0.99      1.00       790\n",
            "     Romance       1.00      0.97      0.99       604\n",
            "      Sci-Fi       1.00      0.96      0.98       597\n",
            "       Short       1.00      1.00      1.00        23\n",
            "       Sport       1.00      1.00      1.00       157\n",
            "    Thriller       1.00      0.98      0.99       784\n",
            "         War       1.00      1.00      1.00       271\n",
            "     Western       1.00      1.00      1.00       103\n",
            "\n",
            "   micro avg       1.00      0.98      0.99     13288\n",
            "   macro avg       1.00      0.99      0.99     13288\n",
            "weighted avg       1.00      0.98      0.99     13288\n",
            " samples avg       0.99      0.98      0.99     13288\n",
            "\n"
          ]
        },
        {
          "output_type": "stream",
          "name": "stderr",
          "text": [
            "/usr/local/lib/python3.10/dist-packages/sklearn/metrics/_classification.py:1565: UndefinedMetricWarning: Precision is ill-defined and being set to 0.0 in samples with no predicted labels. Use `zero_division` parameter to control this behavior.\n",
            "  _warn_prf(average, modifier, f\"{metric.capitalize()} is\", len(result))\n"
          ]
        }
      ]
    },
    {
      "cell_type": "markdown",
      "source": [
        "**NAIVE BAYES**"
      ],
      "metadata": {
        "id": "ZimGzpcMWrv0"
      }
    },
    {
      "cell_type": "code",
      "source": [
        "from sklearn.naive_bayes import MultinomialNB\n",
        "from sklearn.multiclass import OneVsRestClassifier\n",
        "from sklearn.metrics import classification_report\n",
        "\n",
        "nb = MultinomialNB()\n",
        "model_nb = OneVsRestClassifier(nb)\n",
        "\n",
        "model_nb.fit(X_train, y_train)\n",
        "\n",
        "accuracy_train_nb = model_nb.score(X_train, y_train)\n",
        "print(f\"\\nAkurasi pada data train (Naive Bayes): {accuracy_train_nb:.4f}\")\n",
        "\n",
        "y_train_pred_nb = model_nb.predict(X_train)\n",
        "print(classification_report(y_train, y_train_pred_nb, target_names=df_genre_encoded.columns.tolist()))"
      ],
      "metadata": {
        "id": "784YBfdaW1kZ",
        "colab": {
          "base_uri": "https://localhost:8080/"
        },
        "outputId": "40e2362f-59fa-4aea-f687-e4154890ab2a"
      },
      "execution_count": 26,
      "outputs": [
        {
          "output_type": "stream",
          "name": "stdout",
          "text": [
            "\n",
            "Akurasi pada data train (Naive Bayes): 0.8636\n",
            "              precision    recall  f1-score   support\n",
            "\n",
            "      Action       0.98      0.89      0.93      4646\n",
            "   Adventure       0.98      0.87      0.93      3909\n",
            "   Animation       0.99      0.88      0.93      1580\n",
            "   Biography       0.99      0.88      0.94      1421\n",
            "      Comedy       0.98      0.94      0.96      5927\n",
            "       Crime       0.99      0.90      0.94      3483\n",
            " Documentary       1.00      1.00      1.00        88\n",
            "       Drama       0.96      0.97      0.96      8975\n",
            "      Family       0.99      0.94      0.96      1402\n",
            "     Fantasy       0.99      0.95      0.97      2991\n",
            "   Film-Noir       1.00      1.00      1.00       344\n",
            "     History       1.00      0.92      0.96       728\n",
            "      Horror       0.99      0.92      0.95      2842\n",
            "       Music       1.00      0.97      0.98       761\n",
            "     Musical       1.00      1.00      1.00       656\n",
            "     Mystery       0.99      0.91      0.95      3058\n",
            "     Romance       1.00      0.91      0.95      2412\n",
            "      Sci-Fi       0.99      0.93      0.96      2419\n",
            "       Short       1.00      1.00      1.00        81\n",
            "       Sport       1.00      0.88      0.94       675\n",
            "    Thriller       0.98      0.87      0.92      2960\n",
            "         War       0.99      0.99      0.99      1081\n",
            "     Western       1.00      0.99      0.99       417\n",
            "\n",
            "   micro avg       0.98      0.92      0.95     52856\n",
            "   macro avg       0.99      0.94      0.96     52856\n",
            "weighted avg       0.98      0.92      0.95     52856\n",
            " samples avg       0.96      0.92      0.93     52856\n",
            "\n"
          ]
        },
        {
          "output_type": "stream",
          "name": "stderr",
          "text": [
            "/usr/local/lib/python3.10/dist-packages/sklearn/metrics/_classification.py:1565: UndefinedMetricWarning: Precision is ill-defined and being set to 0.0 in samples with no predicted labels. Use `zero_division` parameter to control this behavior.\n",
            "  _warn_prf(average, modifier, f\"{metric.capitalize()} is\", len(result))\n"
          ]
        }
      ]
    },
    {
      "cell_type": "code",
      "source": [
        "import joblib\n",
        "\n",
        "joblib.dump(model_nb, 'nb_genre_model.pkl')\n",
        "print(\"\\nModel Naive Bayes berhasil disimpan ke 'nb_genre_model.pkl'.\")"
      ],
      "metadata": {
        "id": "P6AiLlzVXTFs",
        "colab": {
          "base_uri": "https://localhost:8080/"
        },
        "outputId": "c41a8389-8326-43df-c46d-addf4dace638"
      },
      "execution_count": 27,
      "outputs": [
        {
          "output_type": "stream",
          "name": "stdout",
          "text": [
            "\n",
            "Model Naive Bayes berhasil disimpan ke 'nb_genre_model.pkl'.\n"
          ]
        }
      ]
    },
    {
      "cell_type": "code",
      "source": [
        "from sklearn.metrics import classification_report\n",
        "\n",
        "model_nb = joblib.load('nb_genre_model.pkl')\n",
        "\n",
        "accuracy_test_nb = model_nb.score(X_test, y_test)\n",
        "print(f\"\\nAkurasi pada data test (Naive Bayes): {accuracy_test_nb:.4f}\")\n",
        "\n",
        "y_test_pred_nb = model_nb.predict(X_test)\n",
        "print(classification_report(y_test, y_test_pred_nb, target_names=df_genre_encoded.columns.tolist()))"
      ],
      "metadata": {
        "id": "iKInipeUWuWd",
        "colab": {
          "base_uri": "https://localhost:8080/"
        },
        "outputId": "d1bc72dd-9c4f-4bb8-8869-fc97cac24c4d"
      },
      "execution_count": 28,
      "outputs": [
        {
          "output_type": "stream",
          "name": "stdout",
          "text": [
            "\n",
            "Akurasi pada data test (Naive Bayes): 0.8480\n",
            "              precision    recall  f1-score   support\n",
            "\n",
            "      Action       0.98      0.87      0.92      1178\n",
            "   Adventure       0.98      0.85      0.91       979\n",
            "   Animation       0.99      0.86      0.92       396\n",
            "   Biography       0.99      0.87      0.93       347\n",
            "      Comedy       0.97      0.93      0.95      1457\n",
            "       Crime       0.98      0.88      0.92       885\n",
            " Documentary       1.00      1.00      1.00        16\n",
            "       Drama       0.95      0.96      0.96      2257\n",
            "      Family       0.99      0.93      0.96       366\n",
            "     Fantasy       0.99      0.93      0.96       753\n",
            "   Film-Noir       1.00      1.00      1.00        72\n",
            "     History       0.99      0.92      0.95       208\n",
            "      Horror       0.98      0.92      0.95       694\n",
            "       Music       1.00      0.95      0.98       175\n",
            "     Musical       1.00      1.00      1.00       176\n",
            "     Mystery       0.99      0.90      0.94       790\n",
            "     Romance       0.99      0.90      0.94       604\n",
            "      Sci-Fi       0.99      0.93      0.96       597\n",
            "       Short       1.00      1.00      1.00        23\n",
            "       Sport       0.99      0.90      0.94       157\n",
            "    Thriller       0.97      0.87      0.92       784\n",
            "         War       0.98      0.99      0.98       271\n",
            "     Western       1.00      0.96      0.98       103\n",
            "\n",
            "   micro avg       0.98      0.91      0.94     13288\n",
            "   macro avg       0.99      0.93      0.96     13288\n",
            "weighted avg       0.98      0.91      0.94     13288\n",
            " samples avg       0.95      0.91      0.92     13288\n",
            "\n"
          ]
        },
        {
          "output_type": "stream",
          "name": "stderr",
          "text": [
            "/usr/local/lib/python3.10/dist-packages/sklearn/metrics/_classification.py:1565: UndefinedMetricWarning: Precision is ill-defined and being set to 0.0 in samples with no predicted labels. Use `zero_division` parameter to control this behavior.\n",
            "  _warn_prf(average, modifier, f\"{metric.capitalize()} is\", len(result))\n"
          ]
        }
      ]
    },
    {
      "cell_type": "code",
      "source": [
        "# import joblib\n",
        "# import pandas as pd\n",
        "\n",
        "# knn_model = joblib.load('knn_genre_model.pkl')\n",
        "# svm_model = joblib.load('svm_genre_model.pkl')\n",
        "# naive_bayes_model = joblib.load('nb_genre_model.pkl')\n",
        "# tfidf_vectorizer = joblib.load('tfidf_vectorizer.pkl')\n",
        "# mlb_genre = joblib.load('mlb_genre.pkl')\n",
        "\n",
        "# movies_df = pd.read_csv('movies (6).csv')\n",
        "\n",
        "# print(\"Pilih model untuk klasifikasi:\")\n",
        "# print(\"1. KNN\")\n",
        "# print(\"2. SVM\")\n",
        "# print(\"3. Naive Bayes\")\n",
        "\n",
        "# model_choice = input(\"Masukkan pilihan (1/2/3): \")\n",
        "# new_text = input(\"\\nMasukkan teks untuk diklasifikasi: \")\n",
        "# new_data_tfidf = tfidf_vectorizer.transform([new_text])\n",
        "\n",
        "# if model_choice == '1':\n",
        "#     model = knn_model\n",
        "#     model_name = \"KNN\"\n",
        "# elif model_choice == '2':\n",
        "#     model = svm_model\n",
        "#     model_name = \"SVM\"\n",
        "# elif model_choice == '3':\n",
        "#     model = naive_bayes_model\n",
        "#     model_name = \"Naive Bayes\"\n",
        "# else:\n",
        "#     print(\"Pilihan tidak valid!\")\n",
        "#     exit()\n",
        "\n",
        "# prediction = model.predict(new_data_tfidf)\n",
        "# decoded_genre = mlb_genre.inverse_transform(prediction)\n",
        "\n",
        "# print(f\"\\nHasil klasifikasi dengan {model_name}:\")\n",
        "# print(\"Genre Prediksi:\", decoded_genre[0])\n",
        "\n",
        "# predicted_genres = decoded_genre[0]\n",
        "# recommended_movies = movies_df[movies_df['Genre'].str.contains('|'.join(predicted_genres), case=False)]\n",
        "\n",
        "# print(\"\\nRekomendasi Film dengan Genre:\", ', '.join(predicted_genres))\n",
        "# for index, row in recommended_movies[['title', 'Genre']].head(10).iterrows():\n",
        "#     print(f\"{row['title']} - {row['Genre']}\")"
      ],
      "metadata": {
        "id": "H1ZLxB7cKpNO",
        "colab": {
          "base_uri": "https://localhost:8080/"
        },
        "outputId": "4945dc06-bf32-4177-86de-00d26ddf6b95"
      },
      "execution_count": null,
      "outputs": [
        {
          "output_type": "stream",
          "name": "stdout",
          "text": [
            "Pilih model untuk klasifikasi:\n",
            "1. KNN\n",
            "2. SVM\n",
            "3. Naive Bayes\n"
          ]
        }
      ]
    }
  ],
  "metadata": {
    "colab": {
      "provenance": []
    },
    "kernelspec": {
      "display_name": "Python 3",
      "name": "python3"
    },
    "language_info": {
      "name": "python"
    }
  },
  "nbformat": 4,
  "nbformat_minor": 0
}